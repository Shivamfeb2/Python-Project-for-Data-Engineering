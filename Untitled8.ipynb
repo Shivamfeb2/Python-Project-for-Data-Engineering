{
 "cells": [
  {
   "cell_type": "code",
   "execution_count": 1,
   "id": "9f7fb6e1",
   "metadata": {},
   "outputs": [
    {
     "ename": "DependencyError",
     "evalue": "PyCryptodome is required for AES algorithm",
     "output_type": "error",
     "traceback": [
      "\u001b[1;31m---------------------------------------------------------------------------\u001b[0m",
      "\u001b[1;31mDependencyError\u001b[0m                           Traceback (most recent call last)",
      "Input \u001b[1;32mIn [1]\u001b[0m, in \u001b[0;36m<cell line: 5>\u001b[1;34m()\u001b[0m\n\u001b[0;32m      3\u001b[0m pdfReader \u001b[38;5;241m=\u001b[39m PyPDF2\u001b[38;5;241m.\u001b[39mPdfReader(\u001b[38;5;28mopen\u001b[39m(\u001b[38;5;124mr\u001b[39m\u001b[38;5;124m'\u001b[39m\u001b[38;5;124mC:/Users/v-shivampa/sustainability.pdf\u001b[39m\u001b[38;5;124m'\u001b[39m,\u001b[38;5;124m'\u001b[39m\u001b[38;5;124mrb\u001b[39m\u001b[38;5;124m'\u001b[39m))\n\u001b[0;32m      4\u001b[0m pdftext \u001b[38;5;241m=\u001b[39m \u001b[38;5;124m\"\u001b[39m\u001b[38;5;124m\"\u001b[39m\n\u001b[1;32m----> 5\u001b[0m \u001b[38;5;28;01mfor\u001b[39;00m page \u001b[38;5;129;01min\u001b[39;00m \u001b[38;5;28mrange\u001b[39m(\u001b[43mpdfReader\u001b[49m\u001b[38;5;241;43m.\u001b[39;49m\u001b[43mnumPages\u001b[49m):\n\u001b[0;32m      6\u001b[0m     pageObj \u001b[38;5;241m=\u001b[39m pdfReader\u001b[38;5;241m.\u001b[39mgetPage(page)\n\u001b[0;32m      7\u001b[0m     pdftext \u001b[38;5;241m=\u001b[39m pageObj\u001b[38;5;241m.\u001b[39mextractText()\u001b[38;5;241m.\u001b[39mreplace(\u001b[38;5;124m'\u001b[39m\u001b[38;5;130;01m\\n\u001b[39;00m\u001b[38;5;124m'\u001b[39m,\u001b[38;5;124m'\u001b[39m\u001b[38;5;124m'\u001b[39m)\n",
      "File \u001b[1;32m~\\AppData\\Roaming\\Python\\Python310\\site-packages\\PyPDF2\\_reader.py:420\u001b[0m, in \u001b[0;36mPdfReader.numPages\u001b[1;34m(self)\u001b[0m\n\u001b[0;32m    414\u001b[0m \u001b[38;5;124;03m\"\"\"\u001b[39;00m\n\u001b[0;32m    415\u001b[0m \u001b[38;5;124;03m.. deprecated:: 1.28.0\u001b[39;00m\n\u001b[0;32m    416\u001b[0m \n\u001b[0;32m    417\u001b[0m \u001b[38;5;124;03m    Use :code:`len(reader.pages)` instead.\u001b[39;00m\n\u001b[0;32m    418\u001b[0m \u001b[38;5;124;03m\"\"\"\u001b[39;00m\n\u001b[0;32m    419\u001b[0m deprecate_with_replacement(\u001b[38;5;124m\"\u001b[39m\u001b[38;5;124mreader.numPages\u001b[39m\u001b[38;5;124m\"\u001b[39m, \u001b[38;5;124m\"\u001b[39m\u001b[38;5;124mlen(reader.pages)\u001b[39m\u001b[38;5;124m\"\u001b[39m)\n\u001b[1;32m--> 420\u001b[0m \u001b[38;5;28;01mreturn\u001b[39;00m \u001b[38;5;28;43mself\u001b[39;49m\u001b[38;5;241;43m.\u001b[39;49m\u001b[43m_get_num_pages\u001b[49m\u001b[43m(\u001b[49m\u001b[43m)\u001b[49m\n",
      "File \u001b[1;32m~\\AppData\\Roaming\\Python\\Python310\\site-packages\\PyPDF2\\_reader.py:397\u001b[0m, in \u001b[0;36mPdfReader._get_num_pages\u001b[1;34m(self)\u001b[0m\n\u001b[0;32m    393\u001b[0m \u001b[38;5;66;03m# Flattened pages will not work on an Encrypted PDF;\u001b[39;00m\n\u001b[0;32m    394\u001b[0m \u001b[38;5;66;03m# the PDF file's page count is used in this case. Otherwise,\u001b[39;00m\n\u001b[0;32m    395\u001b[0m \u001b[38;5;66;03m# the original method (flattened page count) is used.\u001b[39;00m\n\u001b[0;32m    396\u001b[0m \u001b[38;5;28;01mif\u001b[39;00m \u001b[38;5;28mself\u001b[39m\u001b[38;5;241m.\u001b[39mis_encrypted:\n\u001b[1;32m--> 397\u001b[0m     \u001b[38;5;28;01mreturn\u001b[39;00m \u001b[38;5;28;43mself\u001b[39;49m\u001b[38;5;241;43m.\u001b[39;49m\u001b[43mtrailer\u001b[49m\u001b[43m[\u001b[49m\u001b[43mTK\u001b[49m\u001b[38;5;241;43m.\u001b[39;49m\u001b[43mROOT\u001b[49m\u001b[43m]\u001b[49m[\u001b[38;5;124m\"\u001b[39m\u001b[38;5;124m/Pages\u001b[39m\u001b[38;5;124m\"\u001b[39m][\u001b[38;5;124m\"\u001b[39m\u001b[38;5;124m/Count\u001b[39m\u001b[38;5;124m\"\u001b[39m]  \u001b[38;5;66;03m# type: ignore\u001b[39;00m\n\u001b[0;32m    398\u001b[0m \u001b[38;5;28;01melse\u001b[39;00m:\n\u001b[0;32m    399\u001b[0m     \u001b[38;5;28;01mif\u001b[39;00m \u001b[38;5;28mself\u001b[39m\u001b[38;5;241m.\u001b[39mflattened_pages \u001b[38;5;129;01mis\u001b[39;00m \u001b[38;5;28;01mNone\u001b[39;00m:\n",
      "File \u001b[1;32m~\\AppData\\Roaming\\Python\\Python310\\site-packages\\PyPDF2\\generic\\_data_structures.py:150\u001b[0m, in \u001b[0;36mDictionaryObject.__getitem__\u001b[1;34m(self, key)\u001b[0m\n\u001b[0;32m    149\u001b[0m \u001b[38;5;28;01mdef\u001b[39;00m \u001b[38;5;21m__getitem__\u001b[39m(\u001b[38;5;28mself\u001b[39m, key: Any) \u001b[38;5;241m-\u001b[39m\u001b[38;5;241m>\u001b[39m PdfObject:\n\u001b[1;32m--> 150\u001b[0m     \u001b[38;5;28;01mreturn\u001b[39;00m \u001b[38;5;28;43mdict\u001b[39;49m\u001b[38;5;241;43m.\u001b[39;49m\u001b[38;5;21;43m__getitem__\u001b[39;49m\u001b[43m(\u001b[49m\u001b[38;5;28;43mself\u001b[39;49m\u001b[43m,\u001b[49m\u001b[43m \u001b[49m\u001b[43mkey\u001b[49m\u001b[43m)\u001b[49m\u001b[38;5;241;43m.\u001b[39;49m\u001b[43mget_object\u001b[49m\u001b[43m(\u001b[49m\u001b[43m)\u001b[49m\n",
      "File \u001b[1;32m~\\AppData\\Roaming\\Python\\Python310\\site-packages\\PyPDF2\\generic\\_base.py:163\u001b[0m, in \u001b[0;36mIndirectObject.get_object\u001b[1;34m(self)\u001b[0m\n\u001b[0;32m    162\u001b[0m \u001b[38;5;28;01mdef\u001b[39;00m \u001b[38;5;21mget_object\u001b[39m(\u001b[38;5;28mself\u001b[39m) \u001b[38;5;241m-\u001b[39m\u001b[38;5;241m>\u001b[39m Optional[PdfObject]:\n\u001b[1;32m--> 163\u001b[0m     obj \u001b[38;5;241m=\u001b[39m \u001b[38;5;28;43mself\u001b[39;49m\u001b[38;5;241;43m.\u001b[39;49m\u001b[43mpdf\u001b[49m\u001b[38;5;241;43m.\u001b[39;49m\u001b[43mget_object\u001b[49m\u001b[43m(\u001b[49m\u001b[38;5;28;43mself\u001b[39;49m\u001b[43m)\u001b[49m\n\u001b[0;32m    164\u001b[0m     \u001b[38;5;28;01mif\u001b[39;00m obj \u001b[38;5;129;01mis\u001b[39;00m \u001b[38;5;28;01mNone\u001b[39;00m:\n\u001b[0;32m    165\u001b[0m         \u001b[38;5;28;01mreturn\u001b[39;00m \u001b[38;5;28;01mNone\u001b[39;00m\n",
      "File \u001b[1;32m~\\AppData\\Roaming\\Python\\Python310\\site-packages\\PyPDF2\\_reader.py:1160\u001b[0m, in \u001b[0;36mPdfReader.get_object\u001b[1;34m(self, indirect_reference)\u001b[0m\n\u001b[0;32m   1158\u001b[0m         \u001b[38;5;66;03m# otherwise, decrypt here...\u001b[39;00m\n\u001b[0;32m   1159\u001b[0m         retval \u001b[38;5;241m=\u001b[39m cast(PdfObject, retval)\n\u001b[1;32m-> 1160\u001b[0m         retval \u001b[38;5;241m=\u001b[39m \u001b[38;5;28;43mself\u001b[39;49m\u001b[38;5;241;43m.\u001b[39;49m\u001b[43m_encryption\u001b[49m\u001b[38;5;241;43m.\u001b[39;49m\u001b[43mdecrypt_object\u001b[49m\u001b[43m(\u001b[49m\n\u001b[0;32m   1161\u001b[0m \u001b[43m            \u001b[49m\u001b[43mretval\u001b[49m\u001b[43m,\u001b[49m\u001b[43m \u001b[49m\u001b[43mindirect_reference\u001b[49m\u001b[38;5;241;43m.\u001b[39;49m\u001b[43midnum\u001b[49m\u001b[43m,\u001b[49m\u001b[43m \u001b[49m\u001b[43mindirect_reference\u001b[49m\u001b[38;5;241;43m.\u001b[39;49m\u001b[43mgeneration\u001b[49m\n\u001b[0;32m   1162\u001b[0m \u001b[43m        \u001b[49m\u001b[43m)\u001b[49m\n\u001b[0;32m   1163\u001b[0m \u001b[38;5;28;01melse\u001b[39;00m:\n\u001b[0;32m   1164\u001b[0m     logger_warning(\n\u001b[0;32m   1165\u001b[0m         \u001b[38;5;124mf\u001b[39m\u001b[38;5;124m\"\u001b[39m\u001b[38;5;124mObject \u001b[39m\u001b[38;5;132;01m{\u001b[39;00mindirect_reference\u001b[38;5;241m.\u001b[39midnum\u001b[38;5;132;01m}\u001b[39;00m\u001b[38;5;124m \u001b[39m\u001b[38;5;132;01m{\u001b[39;00mindirect_reference\u001b[38;5;241m.\u001b[39mgeneration\u001b[38;5;132;01m}\u001b[39;00m\u001b[38;5;124m \u001b[39m\u001b[38;5;124m\"\u001b[39m\n\u001b[0;32m   1166\u001b[0m         \u001b[38;5;124m\"\u001b[39m\u001b[38;5;124mnot defined.\u001b[39m\u001b[38;5;124m\"\u001b[39m,\n\u001b[0;32m   1167\u001b[0m         \u001b[38;5;18m__name__\u001b[39m,\n\u001b[0;32m   1168\u001b[0m     )\n",
      "File \u001b[1;32m~\\AppData\\Roaming\\Python\\Python310\\site-packages\\PyPDF2\\_encryption.py:741\u001b[0m, in \u001b[0;36mEncryption.decrypt_object\u001b[1;34m(self, obj, idnum, generation)\u001b[0m\n\u001b[0;32m    738\u001b[0m efCrypt \u001b[38;5;241m=\u001b[39m \u001b[38;5;28mself\u001b[39m\u001b[38;5;241m.\u001b[39m_get_crypt(\u001b[38;5;28mself\u001b[39m\u001b[38;5;241m.\u001b[39mEFF, rc4_key, aes128_key, aes256_key)\n\u001b[0;32m    740\u001b[0m cf \u001b[38;5;241m=\u001b[39m CryptFilter(stmCrypt, StrCrypt, efCrypt)\n\u001b[1;32m--> 741\u001b[0m \u001b[38;5;28;01mreturn\u001b[39;00m \u001b[43mcf\u001b[49m\u001b[38;5;241;43m.\u001b[39;49m\u001b[43mdecrypt_object\u001b[49m\u001b[43m(\u001b[49m\u001b[43mobj\u001b[49m\u001b[43m)\u001b[49m\n",
      "File \u001b[1;32m~\\AppData\\Roaming\\Python\\Python310\\site-packages\\PyPDF2\\_encryption.py:182\u001b[0m, in \u001b[0;36mCryptFilter.decrypt_object\u001b[1;34m(self, obj)\u001b[0m\n\u001b[0;32m    180\u001b[0m \u001b[38;5;28;01melif\u001b[39;00m \u001b[38;5;28misinstance\u001b[39m(obj, DictionaryObject):\n\u001b[0;32m    181\u001b[0m     \u001b[38;5;28;01mfor\u001b[39;00m dictkey, value \u001b[38;5;129;01min\u001b[39;00m \u001b[38;5;28mlist\u001b[39m(obj\u001b[38;5;241m.\u001b[39mitems()):\n\u001b[1;32m--> 182\u001b[0m         obj[dictkey] \u001b[38;5;241m=\u001b[39m \u001b[38;5;28;43mself\u001b[39;49m\u001b[38;5;241;43m.\u001b[39;49m\u001b[43mdecrypt_object\u001b[49m\u001b[43m(\u001b[49m\u001b[43mvalue\u001b[49m\u001b[43m)\u001b[49m\n\u001b[0;32m    183\u001b[0m \u001b[38;5;28;01melif\u001b[39;00m \u001b[38;5;28misinstance\u001b[39m(obj, ArrayObject):\n\u001b[0;32m    184\u001b[0m     \u001b[38;5;28;01mfor\u001b[39;00m i \u001b[38;5;129;01min\u001b[39;00m \u001b[38;5;28mrange\u001b[39m(\u001b[38;5;28mlen\u001b[39m(obj)):\n",
      "File \u001b[1;32m~\\AppData\\Roaming\\Python\\Python310\\site-packages\\PyPDF2\\_encryption.py:176\u001b[0m, in \u001b[0;36mCryptFilter.decrypt_object\u001b[1;34m(self, obj)\u001b[0m\n\u001b[0;32m    174\u001b[0m \u001b[38;5;28;01mdef\u001b[39;00m \u001b[38;5;21mdecrypt_object\u001b[39m(\u001b[38;5;28mself\u001b[39m, obj: PdfObject) \u001b[38;5;241m-\u001b[39m\u001b[38;5;241m>\u001b[39m PdfObject:\n\u001b[0;32m    175\u001b[0m     \u001b[38;5;28;01mif\u001b[39;00m \u001b[38;5;28misinstance\u001b[39m(obj, ByteStringObject) \u001b[38;5;129;01mor\u001b[39;00m \u001b[38;5;28misinstance\u001b[39m(obj, TextStringObject):\n\u001b[1;32m--> 176\u001b[0m         data \u001b[38;5;241m=\u001b[39m \u001b[38;5;28;43mself\u001b[39;49m\u001b[38;5;241;43m.\u001b[39;49m\u001b[43mstrCrypt\u001b[49m\u001b[38;5;241;43m.\u001b[39;49m\u001b[43mdecrypt\u001b[49m\u001b[43m(\u001b[49m\u001b[43mobj\u001b[49m\u001b[38;5;241;43m.\u001b[39;49m\u001b[43moriginal_bytes\u001b[49m\u001b[43m)\u001b[49m\n\u001b[0;32m    177\u001b[0m         obj \u001b[38;5;241m=\u001b[39m create_string_object(data)\n\u001b[0;32m    178\u001b[0m     \u001b[38;5;28;01melif\u001b[39;00m \u001b[38;5;28misinstance\u001b[39m(obj, StreamObject):\n",
      "File \u001b[1;32m~\\AppData\\Roaming\\Python\\Python310\\site-packages\\PyPDF2\\_encryption.py:141\u001b[0m, in \u001b[0;36mCryptAES.decrypt\u001b[1;34m(self, data)\u001b[0m\n\u001b[0;32m    140\u001b[0m \u001b[38;5;28;01mdef\u001b[39;00m \u001b[38;5;21mdecrypt\u001b[39m(\u001b[38;5;28mself\u001b[39m, data: \u001b[38;5;28mbytes\u001b[39m) \u001b[38;5;241m-\u001b[39m\u001b[38;5;241m>\u001b[39m \u001b[38;5;28mbytes\u001b[39m:\n\u001b[1;32m--> 141\u001b[0m     \u001b[38;5;28;01mraise\u001b[39;00m DependencyError(\u001b[38;5;124m\"\u001b[39m\u001b[38;5;124mPyCryptodome is required for AES algorithm\u001b[39m\u001b[38;5;124m\"\u001b[39m)\n",
      "\u001b[1;31mDependencyError\u001b[0m: PyCryptodome is required for AES algorithm"
     ]
    }
   ],
   "source": [
    "import  PyPDF2\n",
    "from PyPDF2 import PdfMerger, PdfReader, PdfWriter\n",
    "pdfReader = PyPDF2.PdfReader(open(r'C:/Users/v-shivampa/sustainability.pdf','rb'))\n",
    "pdftext = \"\"\n",
    "for page in range(pdfReader.numPages):\n",
    "    pageObj = pdfReader.getPage(page)\n",
    "    pdftext = pageObj.extractText().replace('\\n','')\n",
    "#    except Exception as e:\n",
    " #       self.logger.info('An error occured while extracting text: ', e)\n",
    " #       raise\n",
    "    print(pdftext)\n",
    "    #return {\"output\": pdftext}\n",
    "    \"\"\"try:\n",
    "        if params.get('contents'):\n",
    "            pdffile=base64.b64decode(params.get('contents'))\n",
    "        else:\n",
    "                raise Exception('File content is missing')\n",
    "    except Exception as e:\n",
    "        self.logger.error(\"File content missing: \", e)\n",
    "        raise\n",
    "    try:\n",
    "        with open(r'C:/Users/v-shivampa/omy.pdf','wb') as temp_pdf:\n",
    "            temp_pdf.write(pdffile)\"\"\"\n",
    "    \n",
    "    "
   ]
  }
 ],
 "metadata": {
  "kernelspec": {
   "display_name": "Python 3 (ipykernel)",
   "language": "python",
   "name": "python3"
  },
  "language_info": {
   "codemirror_mode": {
    "name": "ipython",
    "version": 3
   },
   "file_extension": ".py",
   "mimetype": "text/x-python",
   "name": "python",
   "nbconvert_exporter": "python",
   "pygments_lexer": "ipython3",
   "version": "3.10.5"
  }
 },
 "nbformat": 4,
 "nbformat_minor": 5
}
