{
 "cells": [
  {
   "cell_type": "code",
   "execution_count": 13,
   "id": "6aba0381",
   "metadata": {},
   "outputs": [
    {
     "name": "stdout",
     "output_type": "stream",
     "text": [
      "Enter your age1\n",
      "Hey kid! go to the play school, your time will come after  17 years\n"
     ]
    }
   ],
   "source": [
    "age = int(input( 'Enter your age'))\n",
    "if age>18:\n",
    "    print(\"You are an adult\")\n",
    "    print('You are eligible for voting')\n",
    "elif age<18 and age>3:\n",
    "    print(\"You are not eligible for voting rights, wait for another\", 18-age, 'years')\n",
    "else:\n",
    "    print(\"Hey kid! go to the play school, your time will come after \",18-age, 'years')\n"
   ]
  },
  {
   "cell_type": "code",
   "execution_count": 18,
   "id": "6eacd90b",
   "metadata": {},
   "outputs": [
    {
     "name": "stdout",
     "output_type": "stream",
     "text": [
      "Enter the first no7\n",
      "Enter the second no8\n",
      "Enter the operator (+,-,*,/,%)+\n",
      "The result is  15\n"
     ]
    }
   ],
   "source": [
    "first=int(input('Enter the first no'))\n",
    "second=int(input('Enter the second no'))\n",
    "operator=input('Enter the operator (+,-,*,/,%)')\n",
    "\n",
    "if operator == \"+\":\n",
    "    print('The result is ',first + second)\n",
    "\n",
    "elif operator == \"-\":\n",
    "    print('The result is ',first - second)\n",
    "    \n",
    "elif operator == \"*\":\n",
    "    print('The result is ',first * second)\n",
    "    \n",
    "elif operator == \"/\":\n",
    "    print('The result is ',first / second)\n",
    "    \n",
    "elif operator == \"%\":\n",
    "    print('The result is ',first % second)\n",
    "    \n",
    "else:\n",
    "    print('Invalid operation')\n",
    "            "
   ]
  },
  {
   "cell_type": "code",
   "execution_count": null,
   "id": "0523ed66",
   "metadata": {},
   "outputs": [],
   "source": [
    "#i=int(input(\"Enter the number\"))\n",
    "i=1\n",
    "\n",
    "while 1<=5:\n",
    "    print(i)\n",
    "    i=i+1"
   ]
  },
  {
   "cell_type": "code",
   "execution_count": null,
   "id": "6688d5da",
   "metadata": {},
   "outputs": [],
   "source": [
    "#i=int(input(\"Enter the number\"))\n",
    "i=1\n",
    "\n",
    "while 1<=5:\n",
    "    print(i)\n",
    "    i=i+1;"
   ]
  }
 ],
 "metadata": {
  "kernelspec": {
   "display_name": "Python 3 (ipykernel)",
   "language": "python",
   "name": "python3"
  },
  "language_info": {
   "codemirror_mode": {
    "name": "ipython",
    "version": 3
   },
   "file_extension": ".py",
   "mimetype": "text/x-python",
   "name": "python",
   "nbconvert_exporter": "python",
   "pygments_lexer": "ipython3",
   "version": "3.10.5"
  }
 },
 "nbformat": 4,
 "nbformat_minor": 5
}
