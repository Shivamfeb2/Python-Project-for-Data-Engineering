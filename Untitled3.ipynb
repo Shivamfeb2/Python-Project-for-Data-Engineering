{
 "cells": [
  {
   "cell_type": "code",
   "execution_count": 3,
   "id": "47c16ef5",
   "metadata": {},
   "outputs": [],
   "source": [
    "import glob\n",
    "import pandas as pd\n",
    "from datetime import datetime\n",
    "import logging"
   ]
  },
  {
   "cell_type": "code",
   "execution_count": 3,
   "id": "709f65d8",
   "metadata": {},
   "outputs": [
    {
     "name": "stderr",
     "output_type": "stream",
     "text": [
      "--2022-08-20 15:39:45--  https://github.com/chezou/tabula-py/raw/master/tests/resources/campaign_donors.pdf\n",
      "Resolving github.com (github.com)... 20.207.73.82\n",
      "Connecting to github.com (github.com)|20.207.73.82|:443... connected.\n",
      "HTTP request sent, awaiting response... 302 Found\n",
      "Location: https://raw.githubusercontent.com/chezou/tabula-py/master/tests/resources/campaign_donors.pdf [following]\n",
      "--2022-08-20 15:39:45--  https://raw.githubusercontent.com/chezou/tabula-py/master/tests/resources/campaign_donors.pdf\n",
      "Resolving raw.githubusercontent.com (raw.githubusercontent.com)... 185.199.110.133, 185.199.108.133, 185.199.111.133, ...\n",
      "Connecting to raw.githubusercontent.com (raw.githubusercontent.com)|185.199.110.133|:443... connected.\n",
      "HTTP request sent, awaiting response... 200 OK\n",
      "Length: 44296 (43K) [application/octet-stream]\n",
      "Saving to: 'campaign_donors.pdf.1'\n",
      "\n",
      "     0K .......... .......... .......... .......... ...       100%  668K=0.06s\n",
      "\n",
      "2022-08-20 15:39:46 (668 KB/s) - 'campaign_donors.pdf.1' saved [44296/44296]\n",
      "\n"
     ]
    }
   ],
   "source": [
    "!wget \"https://github.com/chezou/tabula-py/raw/master/tests/resources/campaign_donors.pdf\""
   ]
  },
  {
   "cell_type": "code",
   "execution_count": 2,
   "id": "ebb3227a",
   "metadata": {},
   "outputs": [
    {
     "name": "stderr",
     "output_type": "stream",
     "text": [
      "--2022-07-19 17:06:00--  https://cf-courses-data.s3.us.cloud-object-storage.appdomain.cloud/IBMDeveloperSkillsNetwork-PY0221EN-SkillsNetwork/labs/module%206/Lab%20-%20Extract%20Transform%20Load/data/bank_market_cap_1.json\n",
      "Resolving cf-courses-data.s3.us.cloud-object-storage.appdomain.cloud (cf-courses-data.s3.us.cloud-object-storage.appdomain.cloud)... 169.63.118.104\n",
      "Connecting to cf-courses-data.s3.us.cloud-object-storage.appdomain.cloud (cf-courses-data.s3.us.cloud-object-storage.appdomain.cloud)|169.63.118.104|:443... connected.\n",
      "HTTP request sent, awaiting response... 200 OK\n",
      "Length: 2815 (2.7K) [application/json]\n",
      "Saving to: 'bank_market_cap_1.json'\n",
      "\n",
      "     0K ..                                                    100%  726M=0s\n",
      "\n",
      "2022-07-19 17:06:05 (726 MB/s) - 'bank_market_cap_1.json' saved [2815/2815]\n",
      "\n",
      "--2022-07-19 17:06:05--  https://cf-courses-data.s3.us.cloud-object-storage.appdomain.cloud/IBMDeveloperSkillsNetwork-PY0221EN-SkillsNetwork/labs/module%206/Lab%20-%20Extract%20Transform%20Load/data/bank_market_cap_2.json\n",
      "Resolving cf-courses-data.s3.us.cloud-object-storage.appdomain.cloud (cf-courses-data.s3.us.cloud-object-storage.appdomain.cloud)... 169.63.118.104\n",
      "Connecting to cf-courses-data.s3.us.cloud-object-storage.appdomain.cloud (cf-courses-data.s3.us.cloud-object-storage.appdomain.cloud)|169.63.118.104|:443... connected.\n",
      "HTTP request sent, awaiting response... 200 OK\n",
      "Length: 1429 (1.4K) [application/json]\n",
      "Saving to: 'bank_market_cap_2.json'\n",
      "\n",
      "     0K .                                                     100%  278M=0s\n",
      "\n",
      "2022-07-19 17:06:09 (278 MB/s) - 'bank_market_cap_2.json' saved [1429/1429]\n",
      "\n",
      "--2022-07-19 17:06:09--  https://cf-courses-data.s3.us.cloud-object-storage.appdomain.cloud/IBMDeveloperSkillsNetwork-PY0221EN-SkillsNetwork/labs/module%206/Final%20Assignment/exchange_rates.csv\n",
      "Resolving cf-courses-data.s3.us.cloud-object-storage.appdomain.cloud (cf-courses-data.s3.us.cloud-object-storage.appdomain.cloud)... 169.63.118.104\n",
      "Connecting to cf-courses-data.s3.us.cloud-object-storage.appdomain.cloud (cf-courses-data.s3.us.cloud-object-storage.appdomain.cloud)|169.63.118.104|:443... connected.\n",
      "HTTP request sent, awaiting response... 200 OK\n",
      "Length: 590 [text/csv]\n",
      "Saving to: 'exchange_rates.csv.1'\n",
      "\n",
      "     0K                                                       100%  165M=0s\n",
      "\n",
      "2022-07-19 17:06:12 (165 MB/s) - 'exchange_rates.csv.1' saved [590/590]\n",
      "\n"
     ]
    }
   ],
   "source": [
    "!wget https://cf-courses-data.s3.us.cloud-object-storage.appdomain.cloud/IBMDeveloperSkillsNetwork-PY0221EN-SkillsNetwork/labs/module%206/Lab%20-%20Extract%20Transform%20Load/data/bank_market_cap_1.json\n",
    "!wget https://cf-courses-data.s3.us.cloud-object-storage.appdomain.cloud/IBMDeveloperSkillsNetwork-PY0221EN-SkillsNetwork/labs/module%206/Lab%20-%20Extract%20Transform%20Load/data/bank_market_cap_2.json\n",
    "!wget https://cf-courses-data.s3.us.cloud-object-storage.appdomain.cloud/IBMDeveloperSkillsNetwork-PY0221EN-SkillsNetwork/labs/module%206/Final%20Assignment/exchange_rates.csv"
   ]
  },
  {
   "cell_type": "code",
   "execution_count": 1,
   "id": "fb4b0572",
   "metadata": {},
   "outputs": [],
   "source": [
    "name={\"Brian\",\"Pinky\",\"Mike\",\"Dot\"}\n",
    "other={\"Brian\",\"Yakko\",\"Wakko\",\"Rita\"}"
   ]
  },
  {
   "cell_type": "code",
   "execution_count": 2,
   "id": "5bd1fef8",
   "metadata": {},
   "outputs": [
    {
     "data": {
      "text/plain": [
       "{'Brian', 'Dot', 'Mike', 'Pinky', 'Rita', 'Wakko', 'Yakko'}"
      ]
     },
     "execution_count": 2,
     "metadata": {},
     "output_type": "execute_result"
    }
   ],
   "source": [
    "#Union\n",
    "name|other\n"
   ]
  },
  {
   "cell_type": "code",
   "execution_count": 3,
   "id": "3527004c",
   "metadata": {},
   "outputs": [
    {
     "data": {
      "text/plain": [
       "{'Brian'}"
      ]
     },
     "execution_count": 3,
     "metadata": {},
     "output_type": "execute_result"
    }
   ],
   "source": [
    "#& Operator\n",
    "name&other"
   ]
  },
  {
   "cell_type": "code",
   "execution_count": 4,
   "id": "7abe7df5",
   "metadata": {},
   "outputs": [
    {
     "data": {
      "text/plain": [
       "{'Dot', 'Mike', 'Pinky', 'Rita', 'Wakko', 'Yakko'}"
      ]
     },
     "execution_count": 4,
     "metadata": {},
     "output_type": "execute_result"
    }
   ],
   "source": [
    "#Symmetric difference(^)\n",
    "name^other"
   ]
  },
  {
   "cell_type": "code",
   "execution_count": 6,
   "id": "6dadb911",
   "metadata": {},
   "outputs": [
    {
     "data": {
      "text/plain": [
       "{'Brian'}"
      ]
     },
     "execution_count": 6,
     "metadata": {},
     "output_type": "execute_result"
    }
   ],
   "source": [
    "(name|other)-(name^other)"
   ]
  },
  {
   "cell_type": "code",
   "execution_count": 7,
   "id": "9eec561e",
   "metadata": {},
   "outputs": [
    {
     "data": {
      "text/plain": [
       "{'Dot', 'Mike', 'Pinky', 'Rita', 'Wakko', 'Yakko'}"
      ]
     },
     "execution_count": 7,
     "metadata": {},
     "output_type": "execute_result"
    }
   ],
   "source": [
    "(name|other)-(name&other)"
   ]
  }
 ],
 "metadata": {
  "kernelspec": {
   "display_name": "Python 3 (ipykernel)",
   "language": "python",
   "name": "python3"
  },
  "language_info": {
   "codemirror_mode": {
    "name": "ipython",
    "version": 3
   },
   "file_extension": ".py",
   "mimetype": "text/x-python",
   "name": "python",
   "nbconvert_exporter": "python",
   "pygments_lexer": "ipython3",
   "version": "3.10.5"
  }
 },
 "nbformat": 4,
 "nbformat_minor": 5
}
