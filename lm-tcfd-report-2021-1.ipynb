{
 "cells": [
  {
   "cell_type": "code",
   "execution_count": 17,
   "id": "ae1ed844",
   "metadata": {},
   "outputs": [],
   "source": [
    "import  PyPDF2\n",
    "from PyPDF2 import PdfMerger, PdfReader, PdfWriter\n",
    "pdfReader = PyPDF2.PdfReader(open(r'C:/Users/v-shivampa/omy.pdf','rb'))\n",
    "pdftext = \"\"\n",
    "for page in range(pdfReader.numPages):\n",
    "    pageObj = pdfReader.getPage(page)\n",
    "    pdftext = pageObj.extractText().replace('\\n','')\n",
    "#    except Exception as e:\n",
    " #       self.logger.info('An error occured while extracting text: ', e)\n",
    " #       raise\n",
    "    #print(pdftext)\n",
    "    file1=open(r'C:/Users/v-shivampa/lm-tcfd-report-2021-1.txt' ,\"a\",encoding = 'utf-8')\n",
    "    file1.writelines(pdftext)\n",
    "    #return {\"output\": pdftext}\n",
    "    \"\"\"try:\n",
    "        if params.get('contents'):\n",
    "            pdffile=base64.b64decode(params.get('contents'))\n",
    "        else:\n",
    "                raise Exception('File content is missing')\n",
    "    except Exception as e:\n",
    "        self.logger.error(\"File content missing: \", e)\n",
    "        raise\n",
    "    try:\n",
    "        with open(r'C:/Users/v-shivampa/omy.pdf','wb') as temp_pdf:\n",
    "            temp_pdf.write(pdffile)\"\"\"\n",
    "    \n",
    "    "
   ]
  }
 ],
 "metadata": {
  "kernelspec": {
   "display_name": "Python 3 (ipykernel)",
   "language": "python",
   "name": "python3"
  },
  "language_info": {
   "codemirror_mode": {
    "name": "ipython",
    "version": 3
   },
   "file_extension": ".py",
   "mimetype": "text/x-python",
   "name": "python",
   "nbconvert_exporter": "python",
   "pygments_lexer": "ipython3",
   "version": "3.10.5"
  }
 },
 "nbformat": 4,
 "nbformat_minor": 5
}
