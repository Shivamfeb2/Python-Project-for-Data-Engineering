{
 "cells": [
  {
   "cell_type": "code",
   "execution_count": 18,
   "id": "0dff3fbd",
   "metadata": {},
   "outputs": [],
   "source": [
    "def extract_text(self,params={}):\n",
    "    pdfReader = PYPDF2.PDFFileReader(open(r'C:/Users/v-shivampa/omy.pdf','rb'))\n",
    "    pdftext = \"\"\n",
    "    for page in range(pdfReader.numPages):\n",
    "        pageObj = pdfReader.getPage(page)\n",
    "        pdftext = pageObj.extractText()\n",
    "        ##.replace('\\n','')\n",
    "#    except Exception as e:\n",
    " #       self.logger.info('An error occured while extracting text: ', e)\n",
    " #       raise\n",
    "    pdftext\n",
    "    #return {\"output\": pdftext}\n",
    "    \"\"\"try:\n",
    "        if params.get('contents'):\n",
    "            pdffile=base64.b64decode(params.get('contents'))\n",
    "        else:\n",
    "                raise Exception('File content is missing')\n",
    "    except Exception as e:\n",
    "        self.logger.error(\"File content missing: \", e)\n",
    "        raise\n",
    "    try:\n",
    "        with open(r'C:/Users/v-shivampa/omy.pdf','wb') as temp_pdf:\n",
    "            temp_pdf.write(pdffile)\"\"\"\n",
    "    \n",
    "                \n"
   ]
  },
  {
   "cell_type": "code",
   "execution_count": null,
   "id": "a3d25d14",
   "metadata": {},
   "outputs": [],
   "source": []
  }
 ],
 "metadata": {
  "kernelspec": {
   "display_name": "Python 3 (ipykernel)",
   "language": "python",
   "name": "python3"
  },
  "language_info": {
   "codemirror_mode": {
    "name": "ipython",
    "version": 3
   },
   "file_extension": ".py",
   "mimetype": "text/x-python",
   "name": "python",
   "nbconvert_exporter": "python",
   "pygments_lexer": "ipython3",
   "version": "3.10.5"
  }
 },
 "nbformat": 4,
 "nbformat_minor": 5
}
